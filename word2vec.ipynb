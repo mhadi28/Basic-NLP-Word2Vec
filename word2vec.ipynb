{
 "cells": [
  {
   "cell_type": "code",
   "execution_count": 6,
   "id": "a70e8d0b",
   "metadata": {},
   "outputs": [
    {
     "name": "stdout",
     "output_type": "stream",
     "text": [
      "showing info https://raw.githubusercontent.com/nltk/nltk_data/gh-pages/index.xml\n"
     ]
    }
   ],
   "source": [
    "import nltk\n",
    "from gensim.models import Word2Vec\n",
    "from nltk.corpus import stopwords\n",
    "import re"
   ]
  },
  {
   "cell_type": "code",
   "execution_count": 2,
   "id": "105ca631",
   "metadata": {},
   "outputs": [],
   "source": [
    "paragraph = \"\"\"I have three visions for India. In 3000 years of our history, people from all over \n",
    "               the world have come and invaded us, captured our lands, conquered our minds. \n",
    "               From Alexander onwards, the Greeks, the Turks, the Moguls, the Portuguese, the British,\n",
    "               the French, the Dutch, all of them came and looted us, took over what was ours. \n",
    "               Yet we have not done this to any other nation. We have not conquered anyone. \n",
    "               We have not grabbed their land, their culture, \n",
    "               their history and tried to enforce our way of life on them. \n",
    "               Why? Because we respect the freedom of others.That is why my \n",
    "               first vision is that of freedom. I believe that India got its first vision of \n",
    "               this in 1857, when we started the War of Independence. It is this freedom that\n",
    "               we must protect and nurture and build on. If we are not free, no one will respect us.\n",
    "               My second vision for India’s development. For fifty years we have been a developing nation.\n",
    "               It is time we see ourselves as a developed nation. We are among the top 5 nations of the world\n",
    "               in terms of GDP. We have a 10 percent growth rate in most areas. Our poverty levels are falling.\n",
    "               Our achievements are being globally recognised today. Yet we lack the self-confidence to\n",
    "               see ourselves as a developed nation, self-reliant and self-assured. Isn’t this incorrect?\n",
    "               I have a third vision. India must stand up to the world. Because I believe that unless India \n",
    "               stands up to the world, no one will respect us. Only strength respects strength. We must be \n",
    "               strong not only as a military power but also as an economic power. Both must go hand-in-hand. \n",
    "               My good fortune was to have worked with three great minds. Dr. Vikram Sarabhai of the Dept. of \n",
    "               space, Professor Satish Dhawan, who succeeded him and Dr. Brahm Prakash, father of nuclear material.\n",
    "               I was lucky to have worked with all three of them closely and consider this the great opportunity of my life. \n",
    "               I see four milestones in my career\"\"\""
   ]
  },
  {
   "cell_type": "code",
   "execution_count": 7,
   "id": "1aaebb37",
   "metadata": {},
   "outputs": [],
   "source": [
    "# Preprocessing the data\n",
    "text = re.sub(r'\\[[0-9]*\\]',' ',paragraph)\n",
    "text = re.sub(r'\\s+',' ',text)\n",
    "text = text.lower()\n",
    "text = re.sub(r'\\d',' ',text)\n",
    "text = re.sub(r'\\s+',' ',text)"
   ]
  },
  {
   "cell_type": "code",
   "execution_count": 11,
   "id": "cb851e1e",
   "metadata": {},
   "outputs": [],
   "source": [
    "# Preparing the dataset\n",
    "sentences = nltk.sent_tokenize(text)\n",
    "\n",
    "sentences = [nltk.word_tokenize(sentence) for sentence in sentences]\n",
    "\n",
    "for i in range(len(sentences)):\n",
    "    sentences[i] = [word for word in sentences[i] if word not in stopwords.words('english')]\n",
    "\n",
    "# Training the Word2Vec model\n",
    "model = Word2Vec(sentences, min_count=1)\n",
    "\n",
    "\n",
    "words = model.wv.key_to_index"
   ]
  },
  {
   "cell_type": "code",
   "execution_count": 35,
   "id": "bc6a023e",
   "metadata": {},
   "outputs": [
    {
     "name": "stdout",
     "output_type": "stream",
     "text": [
      "{'.': 0, ',': 1, 'india': 2, 'vision': 3, 'must': 4, 'nation': 5, 'world': 6, 'us': 7, 'three': 8, 'freedom': 9, 'respect': 10, 'see': 11, 'first': 12, 'power': 13, 'yet': 14, '’': 15, 'strength': 16, 'worked': 17, '?': 18, 'life': 19, 'believe': 20, 'dr.': 21, 'great': 22, 'minds': 23, 'one': 24, 'years': 25, 'history': 26, 'developed': 27, 'conquered': 28, 'protect': 29, 'others.that': 30, 'war': 31, 'nurture': 32, 'independence': 33, 'build': 34, 'free': 35, 'tried': 36, 'got': 37, 'started': 38, 'way': 39, 'enforce': 40, 'took': 41, 'culture': 42, 'turks': 43, 'visions': 44, 'people': 45, 'come': 46, 'invaded': 47, 'captured': 48, 'lands': 49, 'alexander': 50, 'onwards': 51, 'greeks': 52, 'moguls': 53, 'land': 54, 'portuguese': 55, 'british': 56, 'french': 57, 'dutch': 58, 'came': 59, 'looted': 60, 'done': 61, 'anyone': 62, 'grabbed': 63, 'second': 64, 'career': 65, 'development': 66, 'respects': 67, 'military': 68, 'also': 69, 'economic': 70, 'go': 71, 'hand-in-hand': 72, 'good': 73, 'fortune': 74, 'vikram': 75, 'sarabhai': 76, 'dept': 77, 'space': 78, 'professor': 79, 'satish': 80, 'dhawan': 81, 'succeeded': 82, 'brahm': 83, 'prakash': 84, 'father': 85, 'nuclear': 86, 'material': 87, 'lucky': 88, 'closely': 89, 'consider': 90, 'opportunity': 91, 'four': 92, 'strong': 93, 'stands': 94, 'fifty': 95, 'unless': 96, 'developing': 97, 'milestones': 98, 'among': 99, 'top': 100, 'nations': 101, 'terms': 102, 'gdp': 103, 'percent': 104, 'growth': 105, 'rate': 106, 'areas': 107, 'poverty': 108, 'levels': 109, 'falling': 110, 'achievements': 111, 'globally': 112, 'recognised': 113, 'today': 114, 'lack': 115, 'self-confidence': 116, 'self-reliant': 117, 'self-assured': 118, 'incorrect': 119, 'third': 120, 'stand': 121, 'time': 122}\n"
     ]
    }
   ],
   "source": [
    "print(words)"
   ]
  },
  {
   "cell_type": "code",
   "execution_count": 36,
   "id": "b0df43a5",
   "metadata": {},
   "outputs": [],
   "source": [
    "# Finding Word Vectors\n",
    "vector = model.wv['space']\n",
    "\n",
    "# Most similar words\n",
    "similar = model.wv.most_similar('space')"
   ]
  },
  {
   "cell_type": "code",
   "execution_count": 37,
   "id": "1cf9514b",
   "metadata": {},
   "outputs": [
    {
     "data": {
      "text/plain": [
       "[('nation', 0.23671159148216248),\n",
       " ('terms', 0.231890469789505),\n",
       " ('got', 0.21689479053020477),\n",
       " ('respects', 0.19848991930484772),\n",
       " ('strength', 0.19835199415683746),\n",
       " ('years', 0.1976713389158249),\n",
       " ('dept', 0.19061528146266937),\n",
       " ('development', 0.19015289843082428),\n",
       " ('one', 0.16823138296604156),\n",
       " ('today', 0.1674051135778427)]"
      ]
     },
     "execution_count": 37,
     "metadata": {},
     "output_type": "execute_result"
    }
   ],
   "source": [
    "similar"
   ]
  }
 ],
 "metadata": {
  "kernelspec": {
   "display_name": "Python 3 (ipykernel)",
   "language": "python",
   "name": "python3"
  },
  "language_info": {
   "codemirror_mode": {
    "name": "ipython",
    "version": 3
   },
   "file_extension": ".py",
   "mimetype": "text/x-python",
   "name": "python",
   "nbconvert_exporter": "python",
   "pygments_lexer": "ipython3",
   "version": "3.9.12"
  }
 },
 "nbformat": 4,
 "nbformat_minor": 5
}
